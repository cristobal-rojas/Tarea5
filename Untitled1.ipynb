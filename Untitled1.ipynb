{
 "cells": [
  {
   "cell_type": "code",
   "execution_count": 1,
   "metadata": {},
   "outputs": [],
   "source": [
    "#Comandos utilizados\n",
    "##less lvg_table1.dat (Lee el archivo)\n",
    "##Touch Parte1.txt (Crea un archivo)\n",
    "##pwd lvg_table1.dat >> Parte1.txt(Imprime la ubicacion del archivo lvg_table1.dat y la pega en Parte1.txt)\n",
    "##awk '{print $1}' lvg_table1.dat >> Parte1.txt(Imprime la columna 1 del archivo lvg_table1.dat y la pega en Parte1.txt)\n",
    "##awk '{print $2}' Lvg_table1.dat >> Parte1.txt(Imprime la columna 2 del archivo lvg_table1.dat y la pega en Parte1.txt)\n",
    "##awk '{print $12}' Lvg_table1.dat >> Parte1.txt(Imprime la columna 12 del archivo Lvg_table1.dat y la pega en Parte1.txt)\n",
    "##tar -czvf tarea5.tar.gz >> lvg_table1.dat Parte1.txt Respuestas/a/las/Preguntas.txt Untitled1.ipynb"
   ]
  },
  {
   "cell_type": "code",
   "execution_count": 2,
   "metadata": {},
   "outputs": [
    {
     "name": "stdout",
     "output_type": "stream",
     "text": [
      "True\n",
      "False\n"
     ]
    }
   ],
   "source": [
    "#Preguntas\n",
    "#¿Cuántas galaxias cumplen este criterio?\n",
    "##Son 34 galaxias la que cumplen este criterio y 1212 galaxias que no cumplen este criterio\n",
    "#¿A qué tipos de galaxias corresponden?\n",
    "##Corresponden a galaxias tipo Sph excepto una que es dE\n",
    "#¿Cómo se compara la distribución de los tipos de galaxias con los tipos de galaxias para las que las distancias se midieron con cualquiera de los otros métodos? (Número por tipo en este subconjunto vs. número por tipo para todas las demás galaxias)\n",
    "##Para comparar hay que hacer uso de logica booleana, es decir, hay que utilizar signos de comparacion(== , > , <), pero utilizar logica booleana implica que solo se puede usar numeros y no strings, por lo tanto se definiran variables.\n",
    "##(x = 33) indica el numero de galaxias HB tipo Sph, (y = 1212) indica el numero de galaxias restantes y su tipo, ya sea Im o Ir, (i = 1) indica que hay un tipo de galaxia, (z = 2) indica que hay 2 tipos de galaxia.\n",
    "x = 33\n",
    "y = 1212\n",
    "i = 1 \n",
    "z = 2\n",
    "print(x<y)\n",
    "print(i==z)"
   ]
  },
  {
   "cell_type": "code",
   "execution_count": 3,
   "metadata": {},
   "outputs": [
    {
     "data": {
      "text/plain": [
       "False"
      ]
     },
     "execution_count": 3,
     "metadata": {},
     "output_type": "execute_result"
    }
   ],
   "source": [
    "##Comparacion con listas\n",
    "x = (33,1)\n",
    "y = (1212, 2)\n",
    "x[0]>y[0]"
   ]
  },
  {
   "cell_type": "code",
   "execution_count": null,
   "metadata": {},
   "outputs": [],
   "source": [
    "##Como se puede apreciar en los anteriores comandos se compara el numero de galaxias por tipo, es decir se comparan las galaxias Sph con las demas que son Im e Ir."
   ]
  }
 ],
 "metadata": {
  "kernelspec": {
   "display_name": "Python 3",
   "language": "python",
   "name": "python3"
  },
  "language_info": {
   "codemirror_mode": {
    "name": "ipython",
    "version": 3
   },
   "file_extension": ".py",
   "mimetype": "text/x-python",
   "name": "python",
   "nbconvert_exporter": "python",
   "pygments_lexer": "ipython3",
   "version": "3.8.3"
  }
 },
 "nbformat": 4,
 "nbformat_minor": 4
}
